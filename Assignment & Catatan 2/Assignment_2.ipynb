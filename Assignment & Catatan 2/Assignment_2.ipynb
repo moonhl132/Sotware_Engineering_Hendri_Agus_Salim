{
 "cells": [
  {
   "cell_type": "code",
   "execution_count": null,
   "id": "fcc90d1f",
   "metadata": {},
   "outputs": [],
   "source": [
    "# Inverse matrix 2D\n",
    "# Jika matrix enggak punya inverse print matrix tidak punya inverse"
   ]
  },
  {
   "cell_type": "code",
   "execution_count": 1,
   "id": "468dad4c",
   "metadata": {},
   "outputs": [],
   "source": [
    "matrix = [[\"a\",\"b\"],\n",
    "          [\"c\",\"d\"]]"
   ]
  },
  {
   "cell_type": "code",
   "execution_count": 2,
   "id": "bff75d58",
   "metadata": {},
   "outputs": [
    {
     "name": "stdout",
     "output_type": "stream",
     "text": [
      "Value a : 2\n",
      "Value b : 1\n",
      "Value c : 5\n",
      "value d : 3\n"
     ]
    }
   ],
   "source": [
    "a = int(input(\"Value a : \"))\n",
    "b = int(input(\"Value b : \"))\n",
    "c = int(input(\"Value c : \"))\n",
    "d = int(input(\"value d : \"))"
   ]
  },
  {
   "cell_type": "code",
   "execution_count": 3,
   "id": "17886ba3",
   "metadata": {},
   "outputs": [],
   "source": [
    "matrix[0][0] = a\n",
    "matrix[0][1] = b\n",
    "matrix[1][0] = c\n",
    "matrix[1][1] = d"
   ]
  },
  {
   "cell_type": "code",
   "execution_count": 4,
   "id": "d58f06db",
   "metadata": {},
   "outputs": [
    {
     "name": "stdout",
     "output_type": "stream",
     "text": [
      "The result is :\n",
      "[3.0 -1.0]\n",
      "[-5.0 2.0]\n"
     ]
    }
   ],
   "source": [
    "determinan = a*d - b*c\n",
    "if determinan == 0:\n",
    "    print(\"Matrix tidak bisa di inverse\")\n",
    "else:\n",
    "    inverse = 1/determinan\n",
    "    matrix[0][0] = d\n",
    "    matrix[0][1] = -b\n",
    "    matrix[1][0] = -c\n",
    "    matrix[1][1] = a\n",
    "    for i in range(len(matrix)):\n",
    "        for j in range(len(matrix)):\n",
    "            matrix[i][j] *= inverse\n",
    "    print(f\"The result is :\\n[{matrix[0][0]} {matrix[0][1]}]\\n[{matrix[1][0]} {matrix[1][1]}]\")"
   ]
  },
  {
   "cell_type": "code",
   "execution_count": null,
   "id": "7cf5fdba",
   "metadata": {},
   "outputs": [],
   "source": []
  }
 ],
 "metadata": {
  "kernelspec": {
   "display_name": "Python 3 (ipykernel)",
   "language": "python",
   "name": "python3"
  },
  "language_info": {
   "codemirror_mode": {
    "name": "ipython",
    "version": 3
   },
   "file_extension": ".py",
   "mimetype": "text/x-python",
   "name": "python",
   "nbconvert_exporter": "python",
   "pygments_lexer": "ipython3",
   "version": "3.8.10"
  }
 },
 "nbformat": 4,
 "nbformat_minor": 5
}
