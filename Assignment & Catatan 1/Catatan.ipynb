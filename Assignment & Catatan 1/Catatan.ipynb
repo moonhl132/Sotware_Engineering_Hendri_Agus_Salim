{
 "cells": [
  {
   "cell_type": "code",
   "execution_count": 12,
   "id": "268fbfad",
   "metadata": {},
   "outputs": [],
   "source": [
    "import math as Math"
   ]
  },
  {
   "cell_type": "code",
   "execution_count": 16,
   "id": "beaa035e",
   "metadata": {},
   "outputs": [],
   "source": [
    "#Contoh penggunaan Variable\n",
    "a= 10 #integer\n",
    "b= 3.14 #float\n",
    "c = \"A\" #string\n",
    "d = 'Hendri' #string\n",
    "e = \"Software Engineer\" #string\n",
    "f = True #boolean\n",
    "g = False #boolean\n",
    "h = [] #initialize list\n",
    "i = [1,2,3] #list with value\n",
    "j = {} #dictionary\n",
    "k = () #tuple"
   ]
  },
  {
   "cell_type": "code",
   "execution_count": 17,
   "id": "5dc12a28",
   "metadata": {},
   "outputs": [
    {
     "name": "stdout",
     "output_type": "stream",
     "text": [
      "13.14\n",
      "Hendri\n",
      "Software Engineer\n",
      "[1, 2, 3]\n"
     ]
    }
   ],
   "source": [
    "#Print berguna untuk debug\n",
    "print(a+b)\n",
    "print(d)\n",
    "print(e)\n",
    "print(i)"
   ]
  },
  {
   "cell_type": "code",
   "execution_count": 18,
   "id": "c333eb8f",
   "metadata": {},
   "outputs": [],
   "source": [
    "nama = \"Hendri\"\n",
    "umur = 21\n",
    "tempat = \"Pekanbaru\""
   ]
  },
  {
   "cell_type": "code",
   "execution_count": 19,
   "id": "af0f0bc4",
   "metadata": {},
   "outputs": [
    {
     "name": "stdout",
     "output_type": "stream",
     "text": [
      "Hendri\n"
     ]
    }
   ],
   "source": [
    "#Kegunaan seperti scanf di bahasa C\n",
    "nama = input()"
   ]
  },
  {
   "cell_type": "code",
   "execution_count": 20,
   "id": "162360d1",
   "metadata": {},
   "outputs": [
    {
     "name": "stdout",
     "output_type": "stream",
     "text": [
      "Hai namaku adalahHendri\n",
      "Umurku : 21\n",
      "Aku Hendri , umur 21 , tinggal di Pekanbaru \n"
     ]
    }
   ],
   "source": [
    "#Concatination\n",
    "print(\"Hai namaku adalah\" + nama)\n",
    "print(\"Umurku : {}\".format(umur))\n",
    "print(\"Aku {} , umur {} , tinggal di {} \".format(nama, umur, tempat))"
   ]
  },
  {
   "cell_type": "code",
   "execution_count": 21,
   "id": "99f9ba14",
   "metadata": {},
   "outputs": [
    {
     "data": {
      "text/plain": [
       "2.302585092994046"
      ]
     },
     "execution_count": 21,
     "metadata": {},
     "output_type": "execute_result"
    }
   ],
   "source": [
    "import math\n",
    "a = 10\n",
    "b = 10\n",
    "\n",
    "## Conditional Statement\n",
    "a == b\n",
    "a != b\n",
    "a < b\n",
    "a <= b\n",
    "a > b\n",
    "a >= b\n",
    "True and True\n",
    "False or True\n",
    "\n",
    "## Operator\n",
    "a + b\n",
    "a - b\n",
    "a * b\n",
    "a / b #Float division\n",
    "a // b # Integer Division\n",
    "a ** b # power -> 10^10 = 100\n",
    "a % b # Modulus\n",
    "a ** (1/2) #akar dari variable a\n",
    "math.sqrt(a) # akar dari variable a\n",
    "math.sin(a)\n",
    "math.tan(a)\n",
    "math.cos(a)\n",
    "math.tanh(a)\n",
    "math.sinh(a)\n",
    "math.cosh(a)\n",
    "math.log(a)"
   ]
  },
  {
   "cell_type": "code",
   "execution_count": 22,
   "id": "71105299",
   "metadata": {},
   "outputs": [
    {
     "name": "stdout",
     "output_type": "stream",
     "text": [
      "Nilai a sama dengan 10\n",
      "diluar dari if dan elif statement\n"
     ]
    }
   ],
   "source": [
    "# Menggunakan indentasi\n",
    "# Harus memiliki konteks yang sama antara if dan elif\n",
    "if a == 10:\n",
    "    print(\"Nilai a sama dengan 10\")\n",
    "elif a > 10:\n",
    "    print(\"Nilai a lebih besar dari 10\")\n",
    "elif a < 10:\n",
    "    print(\"Nilai a lebih kecil dari 10\")\n",
    "print(\"diluar dari if dan elif statement\")"
   ]
  },
  {
   "cell_type": "code",
   "execution_count": null,
   "id": "c1fcbb38",
   "metadata": {},
   "outputs": [],
   "source": []
  }
 ],
 "metadata": {
  "kernelspec": {
   "display_name": "Python 3 (ipykernel)",
   "language": "python",
   "name": "python3"
  },
  "language_info": {
   "codemirror_mode": {
    "name": "ipython",
    "version": 3
   },
   "file_extension": ".py",
   "mimetype": "text/x-python",
   "name": "python",
   "nbconvert_exporter": "python",
   "pygments_lexer": "ipython3",
   "version": "3.9.7"
  }
 },
 "nbformat": 4,
 "nbformat_minor": 5
}
