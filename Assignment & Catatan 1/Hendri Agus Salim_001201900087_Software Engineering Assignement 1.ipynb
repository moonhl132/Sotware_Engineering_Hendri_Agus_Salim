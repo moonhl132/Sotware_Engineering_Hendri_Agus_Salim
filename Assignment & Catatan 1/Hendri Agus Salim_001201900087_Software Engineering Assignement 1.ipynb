{
 "cells": [
  {
   "cell_type": "code",
   "execution_count": 3,
   "id": "924f34a7",
   "metadata": {},
   "outputs": [
    {
     "name": "stdout",
     "output_type": "stream",
     "text": [
      "2.5\n"
     ]
    }
   ],
   "source": [
    "print(5/2) \n",
    "#this one is float division\n",
    "#we use 1 slash (divide symbol) to use float division and because it is float then the output will be decimal"
   ]
  },
  {
   "cell_type": "code",
   "execution_count": 6,
   "id": "a9243bb3",
   "metadata": {},
   "outputs": [
    {
     "name": "stdout",
     "output_type": "stream",
     "text": [
      "2\n"
     ]
    }
   ],
   "source": [
    "print(5//2)\n",
    "#this one is integer division\n",
    "#we use 2 slash (divide symbol) to use integer division \n",
    "#because it is integer then the output will be not decimal and will be round down"
   ]
  },
  {
   "cell_type": "code",
   "execution_count": null,
   "id": "cc6b15e6",
   "metadata": {},
   "outputs": [],
   "source": []
  }
 ],
 "metadata": {
  "kernelspec": {
   "display_name": "Python 3 (ipykernel)",
   "language": "python",
   "name": "python3"
  },
  "language_info": {
   "codemirror_mode": {
    "name": "ipython",
    "version": 3
   },
   "file_extension": ".py",
   "mimetype": "text/x-python",
   "name": "python",
   "nbconvert_exporter": "python",
   "pygments_lexer": "ipython3",
   "version": "3.9.7"
  }
 },
 "nbformat": 4,
 "nbformat_minor": 5
}
